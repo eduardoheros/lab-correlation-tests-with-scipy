{
  "nbformat": 4,
  "nbformat_minor": 0,
  "metadata": {
    "kernelspec": {
      "display_name": "Python 3",
      "language": "python",
      "name": "python3"
    },
    "language_info": {
      "codemirror_mode": {
        "name": "ipython",
        "version": 3
      },
      "file_extension": ".py",
      "mimetype": "text/x-python",
      "name": "python",
      "nbconvert_exporter": "python",
      "pygments_lexer": "ipython3",
      "version": "3.6.6"
    },
    "colab": {
      "name": "main.ipynb",
      "provenance": []
    }
  },
  "cells": [
    {
      "cell_type": "markdown",
      "metadata": {
        "id": "HEaOnHj5VBPZ",
        "colab_type": "text"
      },
      "source": [
        "# Before your start:\n",
        "- Read the README.md file\n",
        "- Comment as much as you can and use the resources (README.md file)\n",
        "- Happy learning!"
      ]
    },
    {
      "cell_type": "code",
      "metadata": {
        "id": "Os1-y-w0VBPc",
        "colab_type": "code",
        "colab": {}
      },
      "source": [
        "%matplotlib inline\n",
        "import numpy as np\n",
        "import pandas as pd\n",
        "import re\n",
        "import statsmodels.api as sm\n",
        "import statsmodels.stats as sms\n",
        "import statsmodels.formula.api as smf\n",
        "import matplotlib.pyplot as plt"
      ],
      "execution_count": 29,
      "outputs": []
    },
    {
      "cell_type": "markdown",
      "metadata": {
        "id": "Sp07UHLTVBPg",
        "colab_type": "text"
      },
      "source": [
        "# Challenge 1 - Analysis of Variance\n",
        "\n",
        "In this part of the lesson, we will perform an analysis of variance to determine whether the factors in our model create a significant difference in the group means. We will be examining a dataset of FIFA players. We'll start by loading the data using the code in the cell below."
      ]
    },
    {
      "cell_type": "code",
      "metadata": {
        "id": "O8dnqi7mVBPh",
        "colab_type": "code",
        "colab": {}
      },
      "source": [
        "# Run this code:\n",
        "fifa = pd.read_csv('https://raw.githubusercontent.com/eduardoheros/lab-correlation-tests-with-scipy/master/your-code/fifa.csv')"
      ],
      "execution_count": 2,
      "outputs": []
    },
    {
      "cell_type": "markdown",
      "metadata": {
        "id": "56OMxmLmVBPl",
        "colab_type": "text"
      },
      "source": [
        "Let's examine the dataset by looking at the `head`."
      ]
    },
    {
      "cell_type": "code",
      "metadata": {
        "id": "4lmXCjDMVBPm",
        "colab_type": "code",
        "colab": {
          "base_uri": "https://localhost:8080/",
          "height": 289
        },
        "outputId": "7a8175ce-4ae3-464c-f7f8-67521260d330"
      },
      "source": [
        "fifa.head()"
      ],
      "execution_count": 3,
      "outputs": [
        {
          "output_type": "execute_result",
          "data": {
            "text/html": [
              "<div>\n",
              "<style scoped>\n",
              "    .dataframe tbody tr th:only-of-type {\n",
              "        vertical-align: middle;\n",
              "    }\n",
              "\n",
              "    .dataframe tbody tr th {\n",
              "        vertical-align: top;\n",
              "    }\n",
              "\n",
              "    .dataframe thead th {\n",
              "        text-align: right;\n",
              "    }\n",
              "</style>\n",
              "<table border=\"1\" class=\"dataframe\">\n",
              "  <thead>\n",
              "    <tr style=\"text-align: right;\">\n",
              "      <th></th>\n",
              "      <th>Name</th>\n",
              "      <th>Age</th>\n",
              "      <th>Nationality</th>\n",
              "      <th>Overall</th>\n",
              "      <th>Potential</th>\n",
              "      <th>Club</th>\n",
              "      <th>Value</th>\n",
              "      <th>Preferred Foot</th>\n",
              "      <th>Position</th>\n",
              "      <th>Weak Foot</th>\n",
              "      <th>Acceleration</th>\n",
              "      <th>SprintSpeed</th>\n",
              "      <th>Stamina</th>\n",
              "      <th>Strength</th>\n",
              "      <th>LongShots</th>\n",
              "      <th>Aggression</th>\n",
              "      <th>Interceptions</th>\n",
              "      <th>Positioning</th>\n",
              "      <th>Vision</th>\n",
              "      <th>Penalties</th>\n",
              "    </tr>\n",
              "  </thead>\n",
              "  <tbody>\n",
              "    <tr>\n",
              "      <th>0</th>\n",
              "      <td>L. Messi</td>\n",
              "      <td>31</td>\n",
              "      <td>Argentina</td>\n",
              "      <td>94</td>\n",
              "      <td>94</td>\n",
              "      <td>FC Barcelona</td>\n",
              "      <td>€110.5M</td>\n",
              "      <td>Left</td>\n",
              "      <td>RF</td>\n",
              "      <td>4.0</td>\n",
              "      <td>91.0</td>\n",
              "      <td>86.0</td>\n",
              "      <td>72.0</td>\n",
              "      <td>59.0</td>\n",
              "      <td>94.0</td>\n",
              "      <td>48.0</td>\n",
              "      <td>22.0</td>\n",
              "      <td>94.0</td>\n",
              "      <td>94.0</td>\n",
              "      <td>75.0</td>\n",
              "    </tr>\n",
              "    <tr>\n",
              "      <th>1</th>\n",
              "      <td>Cristiano Ronaldo</td>\n",
              "      <td>33</td>\n",
              "      <td>Portugal</td>\n",
              "      <td>94</td>\n",
              "      <td>94</td>\n",
              "      <td>Juventus</td>\n",
              "      <td>€77M</td>\n",
              "      <td>Right</td>\n",
              "      <td>ST</td>\n",
              "      <td>4.0</td>\n",
              "      <td>89.0</td>\n",
              "      <td>91.0</td>\n",
              "      <td>88.0</td>\n",
              "      <td>79.0</td>\n",
              "      <td>93.0</td>\n",
              "      <td>63.0</td>\n",
              "      <td>29.0</td>\n",
              "      <td>95.0</td>\n",
              "      <td>82.0</td>\n",
              "      <td>85.0</td>\n",
              "    </tr>\n",
              "    <tr>\n",
              "      <th>2</th>\n",
              "      <td>Neymar Jr</td>\n",
              "      <td>26</td>\n",
              "      <td>Brazil</td>\n",
              "      <td>92</td>\n",
              "      <td>93</td>\n",
              "      <td>Paris Saint-Germain</td>\n",
              "      <td>€118.5M</td>\n",
              "      <td>Right</td>\n",
              "      <td>LW</td>\n",
              "      <td>5.0</td>\n",
              "      <td>94.0</td>\n",
              "      <td>90.0</td>\n",
              "      <td>81.0</td>\n",
              "      <td>49.0</td>\n",
              "      <td>82.0</td>\n",
              "      <td>56.0</td>\n",
              "      <td>36.0</td>\n",
              "      <td>89.0</td>\n",
              "      <td>87.0</td>\n",
              "      <td>81.0</td>\n",
              "    </tr>\n",
              "    <tr>\n",
              "      <th>3</th>\n",
              "      <td>De Gea</td>\n",
              "      <td>27</td>\n",
              "      <td>Spain</td>\n",
              "      <td>91</td>\n",
              "      <td>93</td>\n",
              "      <td>Manchester United</td>\n",
              "      <td>€72M</td>\n",
              "      <td>Right</td>\n",
              "      <td>GK</td>\n",
              "      <td>3.0</td>\n",
              "      <td>57.0</td>\n",
              "      <td>58.0</td>\n",
              "      <td>43.0</td>\n",
              "      <td>64.0</td>\n",
              "      <td>12.0</td>\n",
              "      <td>38.0</td>\n",
              "      <td>30.0</td>\n",
              "      <td>12.0</td>\n",
              "      <td>68.0</td>\n",
              "      <td>40.0</td>\n",
              "    </tr>\n",
              "    <tr>\n",
              "      <th>4</th>\n",
              "      <td>K. De Bruyne</td>\n",
              "      <td>27</td>\n",
              "      <td>Belgium</td>\n",
              "      <td>91</td>\n",
              "      <td>92</td>\n",
              "      <td>Manchester City</td>\n",
              "      <td>€102M</td>\n",
              "      <td>Right</td>\n",
              "      <td>RCM</td>\n",
              "      <td>5.0</td>\n",
              "      <td>78.0</td>\n",
              "      <td>76.0</td>\n",
              "      <td>90.0</td>\n",
              "      <td>75.0</td>\n",
              "      <td>91.0</td>\n",
              "      <td>76.0</td>\n",
              "      <td>61.0</td>\n",
              "      <td>87.0</td>\n",
              "      <td>94.0</td>\n",
              "      <td>79.0</td>\n",
              "    </tr>\n",
              "  </tbody>\n",
              "</table>\n",
              "</div>"
            ],
            "text/plain": [
              "                Name  Age Nationality  ...  Positioning  Vision Penalties\n",
              "0           L. Messi   31   Argentina  ...         94.0    94.0      75.0\n",
              "1  Cristiano Ronaldo   33    Portugal  ...         95.0    82.0      85.0\n",
              "2          Neymar Jr   26      Brazil  ...         89.0    87.0      81.0\n",
              "3             De Gea   27       Spain  ...         12.0    68.0      40.0\n",
              "4       K. De Bruyne   27     Belgium  ...         87.0    94.0      79.0\n",
              "\n",
              "[5 rows x 20 columns]"
            ]
          },
          "metadata": {
            "tags": []
          },
          "execution_count": 3
        }
      ]
    },
    {
      "cell_type": "markdown",
      "metadata": {
        "id": "3FK0ZZc_VBPs",
        "colab_type": "text"
      },
      "source": [
        "Player's values are expressed in millions of euros. We would like this column to be numeric. Therefore, let's create a numeric value column. Do this by stripping all non-numeric characters from each cell. Assign this new data to `ValueNumeric`. There is no need to multiply the value to be expressed in millions. "
      ]
    },
    {
      "cell_type": "code",
      "metadata": {
        "id": "Hm939_n5cmm6",
        "colab_type": "code",
        "colab": {
          "base_uri": "https://localhost:8080/",
          "height": 544
        },
        "outputId": "cbf89f51-2c07-4dcb-dc84-544cbef24096"
      },
      "source": [
        "fifa.Value.unique()"
      ],
      "execution_count": 4,
      "outputs": [
        {
          "output_type": "execute_result",
          "data": {
            "text/plain": [
              "array(['€110.5M', '€77M', '€118.5M', '€72M', '€102M', '€93M', '€67M',\n",
              "       '€80M', '€51M', '€68M', '€76.5M', '€44M', '€60M', '€63M', '€89M',\n",
              "       '€83.5M', '€78M', '€58M', '€53.5M', '€51.5M', '€38M', '€64.5M',\n",
              "       '€27M', '€81M', '€69.5M', '€59.5M', '€62M', '€73.5M', '€59M',\n",
              "       '€46M', '€43M', '€36M', '€57M', '€24M', '€30M', '€4M', '€64M',\n",
              "       '€30.5M', '€62.5M', '€52M', '€45M', '€34M', '€46.5M', '€61M',\n",
              "       '€41.5M', '€44.5M', '€56.5M', '€53M', '€50M', '€55M', '€36.5M',\n",
              "       '€45.5M', '€43.5M', '€35M', '€39M', '€18M', '€21.5M', '€50.5M',\n",
              "       '€54M', '€40.5M', '€37.5M', '€28.5M', '€37M', '€32M', '€26M',\n",
              "       '€33M', '€38.5M', '€35.5M', '€9M', '€15.5M', '€22M', '€14M',\n",
              "       '€42.5M', '€31.5M', '€42M', '€25M', '€29.5M', '€31M', '€24.5M',\n",
              "       '€27.5M', '€29M', '€16.5M', '€23M', '€19M', '€4.2M', '€40M',\n",
              "       '€41M', '€28M', '€22.5M', '€34.5M', '€32.5M', '€20M', '€26.5M',\n",
              "       '€25.5M', '€21M', '€13M', '€17.5M', '€11.5M', '€8M', '€6M',\n",
              "       '€19.5M', '€6.5M', '€20.5M', '€23.5M', '€18.5M', '€17M', '€12.5M',\n",
              "       '€15M', '€13.5M', '€4.8M', '€3M', '€1.5M', '€16M', '€10M', '€11M',\n",
              "       '€7M', '€14.5M', '€5.5M', '€10.5M', '€4.5M', '€12M', '€0', '€9.5M',\n",
              "       '€8.5M', '€2M', '€1.7M', '€1M', '€3.6M', '€7.5M', '€3.8M', '€5M',\n",
              "       '€2.4M', '€2.9M', '€4.7M', '€4.1M', '€2.1M', '€600K', '€2.7M',\n",
              "       '€3.4M', '€2.5M', '€3.2M', '€3.1M', '€4.9M', '€4.3M', '€2.3M',\n",
              "       '€525K', '€3.9M', '€1.8M', '€2.2M', '€4.4M', '€1.6M', '€900K',\n",
              "       '€3.7M', '€3.5M', '€1.9M', '€450K', '€775K', '€650K', '€750K',\n",
              "       '€2.8M', '€1.3M', '€4.6M', '€2.6M', '€1.2M', '€375K', '€3.3M',\n",
              "       '€270K', '€950K', '€550K', '€1.1M', '€975K', '€1.4M', '€725K',\n",
              "       '€425K', '€210K', '€875K', '€675K', '€325K', '€800K', '€850K',\n",
              "       '€160K', '€120K', '€825K', '€925K', '€625K', '€240K', '€500K',\n",
              "       '€575K', '€200K', '€250K', '€700K', '€350K', '€475K', '€300K',\n",
              "       '€70K', '€140K', '€230K', '€400K', '€280K', '€100K', '€60K',\n",
              "       '€260K', '€180K', '€220K', '€50K', '€290K', '€90K', '€150K',\n",
              "       '€40K', '€130K', '€190K', '€170K', '€110K', '€30K', '€80K', '€20K',\n",
              "       '€10K'], dtype=object)"
            ]
          },
          "metadata": {
            "tags": []
          },
          "execution_count": 4
        }
      ]
    },
    {
      "cell_type": "code",
      "metadata": {
        "id": "MZWvkrI5VBPs",
        "colab_type": "code",
        "colab": {}
      },
      "source": [
        "def string2numeric(x):\n",
        "  m=re.compile(\"[€M]\")\n",
        "  k=re.compile(\"K\")\n",
        "  x=re.sub(m,\"\",x)\n",
        "  if \"K\" in x:\n",
        "    x=re.sub(k,\"\",x)\n",
        "    return float(x)/1000\n",
        "  else:\n",
        "    return float(x)"
      ],
      "execution_count": 5,
      "outputs": []
    },
    {
      "cell_type": "code",
      "metadata": {
        "id": "M4Mvx5ywfMve",
        "colab_type": "code",
        "colab": {}
      },
      "source": [
        "fifa[\"ValueNumeric\"]=fifa.Value.apply(string2numeric)"
      ],
      "execution_count": 6,
      "outputs": []
    },
    {
      "cell_type": "code",
      "metadata": {
        "id": "OZ_7EeJ2slnO",
        "colab_type": "code",
        "colab": {
          "base_uri": "https://localhost:8080/",
          "height": 626
        },
        "outputId": "1736770c-79ff-47e8-b8cd-e6d2480681a3"
      },
      "source": [
        "fifa"
      ],
      "execution_count": 7,
      "outputs": [
        {
          "output_type": "execute_result",
          "data": {
            "text/html": [
              "<div>\n",
              "<style scoped>\n",
              "    .dataframe tbody tr th:only-of-type {\n",
              "        vertical-align: middle;\n",
              "    }\n",
              "\n",
              "    .dataframe tbody tr th {\n",
              "        vertical-align: top;\n",
              "    }\n",
              "\n",
              "    .dataframe thead th {\n",
              "        text-align: right;\n",
              "    }\n",
              "</style>\n",
              "<table border=\"1\" class=\"dataframe\">\n",
              "  <thead>\n",
              "    <tr style=\"text-align: right;\">\n",
              "      <th></th>\n",
              "      <th>Name</th>\n",
              "      <th>Age</th>\n",
              "      <th>Nationality</th>\n",
              "      <th>Overall</th>\n",
              "      <th>Potential</th>\n",
              "      <th>Club</th>\n",
              "      <th>Value</th>\n",
              "      <th>Preferred Foot</th>\n",
              "      <th>Position</th>\n",
              "      <th>Weak Foot</th>\n",
              "      <th>Acceleration</th>\n",
              "      <th>SprintSpeed</th>\n",
              "      <th>Stamina</th>\n",
              "      <th>Strength</th>\n",
              "      <th>LongShots</th>\n",
              "      <th>Aggression</th>\n",
              "      <th>Interceptions</th>\n",
              "      <th>Positioning</th>\n",
              "      <th>Vision</th>\n",
              "      <th>Penalties</th>\n",
              "      <th>ValueNumeric</th>\n",
              "    </tr>\n",
              "  </thead>\n",
              "  <tbody>\n",
              "    <tr>\n",
              "      <th>0</th>\n",
              "      <td>L. Messi</td>\n",
              "      <td>31</td>\n",
              "      <td>Argentina</td>\n",
              "      <td>94</td>\n",
              "      <td>94</td>\n",
              "      <td>FC Barcelona</td>\n",
              "      <td>€110.5M</td>\n",
              "      <td>Left</td>\n",
              "      <td>RF</td>\n",
              "      <td>4.0</td>\n",
              "      <td>91.0</td>\n",
              "      <td>86.0</td>\n",
              "      <td>72.0</td>\n",
              "      <td>59.0</td>\n",
              "      <td>94.0</td>\n",
              "      <td>48.0</td>\n",
              "      <td>22.0</td>\n",
              "      <td>94.0</td>\n",
              "      <td>94.0</td>\n",
              "      <td>75.0</td>\n",
              "      <td>110.50</td>\n",
              "    </tr>\n",
              "    <tr>\n",
              "      <th>1</th>\n",
              "      <td>Cristiano Ronaldo</td>\n",
              "      <td>33</td>\n",
              "      <td>Portugal</td>\n",
              "      <td>94</td>\n",
              "      <td>94</td>\n",
              "      <td>Juventus</td>\n",
              "      <td>€77M</td>\n",
              "      <td>Right</td>\n",
              "      <td>ST</td>\n",
              "      <td>4.0</td>\n",
              "      <td>89.0</td>\n",
              "      <td>91.0</td>\n",
              "      <td>88.0</td>\n",
              "      <td>79.0</td>\n",
              "      <td>93.0</td>\n",
              "      <td>63.0</td>\n",
              "      <td>29.0</td>\n",
              "      <td>95.0</td>\n",
              "      <td>82.0</td>\n",
              "      <td>85.0</td>\n",
              "      <td>77.00</td>\n",
              "    </tr>\n",
              "    <tr>\n",
              "      <th>2</th>\n",
              "      <td>Neymar Jr</td>\n",
              "      <td>26</td>\n",
              "      <td>Brazil</td>\n",
              "      <td>92</td>\n",
              "      <td>93</td>\n",
              "      <td>Paris Saint-Germain</td>\n",
              "      <td>€118.5M</td>\n",
              "      <td>Right</td>\n",
              "      <td>LW</td>\n",
              "      <td>5.0</td>\n",
              "      <td>94.0</td>\n",
              "      <td>90.0</td>\n",
              "      <td>81.0</td>\n",
              "      <td>49.0</td>\n",
              "      <td>82.0</td>\n",
              "      <td>56.0</td>\n",
              "      <td>36.0</td>\n",
              "      <td>89.0</td>\n",
              "      <td>87.0</td>\n",
              "      <td>81.0</td>\n",
              "      <td>118.50</td>\n",
              "    </tr>\n",
              "    <tr>\n",
              "      <th>3</th>\n",
              "      <td>De Gea</td>\n",
              "      <td>27</td>\n",
              "      <td>Spain</td>\n",
              "      <td>91</td>\n",
              "      <td>93</td>\n",
              "      <td>Manchester United</td>\n",
              "      <td>€72M</td>\n",
              "      <td>Right</td>\n",
              "      <td>GK</td>\n",
              "      <td>3.0</td>\n",
              "      <td>57.0</td>\n",
              "      <td>58.0</td>\n",
              "      <td>43.0</td>\n",
              "      <td>64.0</td>\n",
              "      <td>12.0</td>\n",
              "      <td>38.0</td>\n",
              "      <td>30.0</td>\n",
              "      <td>12.0</td>\n",
              "      <td>68.0</td>\n",
              "      <td>40.0</td>\n",
              "      <td>72.00</td>\n",
              "    </tr>\n",
              "    <tr>\n",
              "      <th>4</th>\n",
              "      <td>K. De Bruyne</td>\n",
              "      <td>27</td>\n",
              "      <td>Belgium</td>\n",
              "      <td>91</td>\n",
              "      <td>92</td>\n",
              "      <td>Manchester City</td>\n",
              "      <td>€102M</td>\n",
              "      <td>Right</td>\n",
              "      <td>RCM</td>\n",
              "      <td>5.0</td>\n",
              "      <td>78.0</td>\n",
              "      <td>76.0</td>\n",
              "      <td>90.0</td>\n",
              "      <td>75.0</td>\n",
              "      <td>91.0</td>\n",
              "      <td>76.0</td>\n",
              "      <td>61.0</td>\n",
              "      <td>87.0</td>\n",
              "      <td>94.0</td>\n",
              "      <td>79.0</td>\n",
              "      <td>102.00</td>\n",
              "    </tr>\n",
              "    <tr>\n",
              "      <th>...</th>\n",
              "      <td>...</td>\n",
              "      <td>...</td>\n",
              "      <td>...</td>\n",
              "      <td>...</td>\n",
              "      <td>...</td>\n",
              "      <td>...</td>\n",
              "      <td>...</td>\n",
              "      <td>...</td>\n",
              "      <td>...</td>\n",
              "      <td>...</td>\n",
              "      <td>...</td>\n",
              "      <td>...</td>\n",
              "      <td>...</td>\n",
              "      <td>...</td>\n",
              "      <td>...</td>\n",
              "      <td>...</td>\n",
              "      <td>...</td>\n",
              "      <td>...</td>\n",
              "      <td>...</td>\n",
              "      <td>...</td>\n",
              "      <td>...</td>\n",
              "    </tr>\n",
              "    <tr>\n",
              "      <th>18202</th>\n",
              "      <td>J. Lundstram</td>\n",
              "      <td>19</td>\n",
              "      <td>England</td>\n",
              "      <td>47</td>\n",
              "      <td>65</td>\n",
              "      <td>Crewe Alexandra</td>\n",
              "      <td>€60K</td>\n",
              "      <td>Right</td>\n",
              "      <td>CM</td>\n",
              "      <td>2.0</td>\n",
              "      <td>54.0</td>\n",
              "      <td>57.0</td>\n",
              "      <td>40.0</td>\n",
              "      <td>47.0</td>\n",
              "      <td>38.0</td>\n",
              "      <td>46.0</td>\n",
              "      <td>46.0</td>\n",
              "      <td>39.0</td>\n",
              "      <td>52.0</td>\n",
              "      <td>43.0</td>\n",
              "      <td>0.06</td>\n",
              "    </tr>\n",
              "    <tr>\n",
              "      <th>18203</th>\n",
              "      <td>N. Christoffersson</td>\n",
              "      <td>19</td>\n",
              "      <td>Sweden</td>\n",
              "      <td>47</td>\n",
              "      <td>63</td>\n",
              "      <td>Trelleborgs FF</td>\n",
              "      <td>€60K</td>\n",
              "      <td>Right</td>\n",
              "      <td>ST</td>\n",
              "      <td>2.0</td>\n",
              "      <td>41.0</td>\n",
              "      <td>39.0</td>\n",
              "      <td>43.0</td>\n",
              "      <td>67.0</td>\n",
              "      <td>42.0</td>\n",
              "      <td>47.0</td>\n",
              "      <td>16.0</td>\n",
              "      <td>46.0</td>\n",
              "      <td>33.0</td>\n",
              "      <td>43.0</td>\n",
              "      <td>0.06</td>\n",
              "    </tr>\n",
              "    <tr>\n",
              "      <th>18204</th>\n",
              "      <td>B. Worman</td>\n",
              "      <td>16</td>\n",
              "      <td>England</td>\n",
              "      <td>47</td>\n",
              "      <td>67</td>\n",
              "      <td>Cambridge United</td>\n",
              "      <td>€60K</td>\n",
              "      <td>Right</td>\n",
              "      <td>ST</td>\n",
              "      <td>3.0</td>\n",
              "      <td>70.0</td>\n",
              "      <td>69.0</td>\n",
              "      <td>55.0</td>\n",
              "      <td>32.0</td>\n",
              "      <td>45.0</td>\n",
              "      <td>32.0</td>\n",
              "      <td>15.0</td>\n",
              "      <td>48.0</td>\n",
              "      <td>43.0</td>\n",
              "      <td>55.0</td>\n",
              "      <td>0.06</td>\n",
              "    </tr>\n",
              "    <tr>\n",
              "      <th>18205</th>\n",
              "      <td>D. Walker-Rice</td>\n",
              "      <td>17</td>\n",
              "      <td>England</td>\n",
              "      <td>47</td>\n",
              "      <td>66</td>\n",
              "      <td>Tranmere Rovers</td>\n",
              "      <td>€60K</td>\n",
              "      <td>Right</td>\n",
              "      <td>RW</td>\n",
              "      <td>3.0</td>\n",
              "      <td>61.0</td>\n",
              "      <td>60.0</td>\n",
              "      <td>40.0</td>\n",
              "      <td>48.0</td>\n",
              "      <td>34.0</td>\n",
              "      <td>33.0</td>\n",
              "      <td>22.0</td>\n",
              "      <td>44.0</td>\n",
              "      <td>47.0</td>\n",
              "      <td>50.0</td>\n",
              "      <td>0.06</td>\n",
              "    </tr>\n",
              "    <tr>\n",
              "      <th>18206</th>\n",
              "      <td>G. Nugent</td>\n",
              "      <td>16</td>\n",
              "      <td>England</td>\n",
              "      <td>46</td>\n",
              "      <td>66</td>\n",
              "      <td>Tranmere Rovers</td>\n",
              "      <td>€60K</td>\n",
              "      <td>Right</td>\n",
              "      <td>CM</td>\n",
              "      <td>3.0</td>\n",
              "      <td>57.0</td>\n",
              "      <td>55.0</td>\n",
              "      <td>47.0</td>\n",
              "      <td>60.0</td>\n",
              "      <td>32.0</td>\n",
              "      <td>56.0</td>\n",
              "      <td>42.0</td>\n",
              "      <td>34.0</td>\n",
              "      <td>49.0</td>\n",
              "      <td>33.0</td>\n",
              "      <td>0.06</td>\n",
              "    </tr>\n",
              "  </tbody>\n",
              "</table>\n",
              "<p>18207 rows × 21 columns</p>\n",
              "</div>"
            ],
            "text/plain": [
              "                     Name  Age Nationality  ...  Vision  Penalties ValueNumeric\n",
              "0                L. Messi   31   Argentina  ...    94.0       75.0       110.50\n",
              "1       Cristiano Ronaldo   33    Portugal  ...    82.0       85.0        77.00\n",
              "2               Neymar Jr   26      Brazil  ...    87.0       81.0       118.50\n",
              "3                  De Gea   27       Spain  ...    68.0       40.0        72.00\n",
              "4            K. De Bruyne   27     Belgium  ...    94.0       79.0       102.00\n",
              "...                   ...  ...         ...  ...     ...        ...          ...\n",
              "18202        J. Lundstram   19     England  ...    52.0       43.0         0.06\n",
              "18203  N. Christoffersson   19      Sweden  ...    33.0       43.0         0.06\n",
              "18204           B. Worman   16     England  ...    43.0       55.0         0.06\n",
              "18205      D. Walker-Rice   17     England  ...    47.0       50.0         0.06\n",
              "18206           G. Nugent   16     England  ...    49.0       33.0         0.06\n",
              "\n",
              "[18207 rows x 21 columns]"
            ]
          },
          "metadata": {
            "tags": []
          },
          "execution_count": 7
        }
      ]
    },
    {
      "cell_type": "markdown",
      "metadata": {
        "id": "WIPb55_4VBPw",
        "colab_type": "text"
      },
      "source": [
        "#### We'd like to determine whether a player's preffered foot and position have an impact on their value. \n",
        "\n",
        "Using the `statsmodels` library, we are able to produce an ANOVA table without munging our data. Create an ANOVA table with value as a function of position and preferred foot. Recall that pivoting is performed by the `C` function.\n",
        "\n",
        "Hint: For columns that have a space in their name, it is best to refer to the column using the dataframe (For example: for column `A`, we will use `df['A']`)."
      ]
    },
    {
      "cell_type": "code",
      "metadata": {
        "id": "igzd5f04VBPw",
        "colab_type": "code",
        "colab": {
          "base_uri": "https://localhost:8080/",
          "height": 142
        },
        "outputId": "7f0c0127-2295-40f8-9e19-5dac2cd840bc"
      },
      "source": [
        "formula = 'ValueNumeric ~ C(Position) + C(fifa[\"Preferred Foot\"])'\n",
        "lm = smf.ols(formula, fifa).fit()\n",
        "sms.anova.anova_single(lm)"
      ],
      "execution_count": 8,
      "outputs": [
        {
          "output_type": "execute_result",
          "data": {
            "text/html": [
              "<div>\n",
              "<style scoped>\n",
              "    .dataframe tbody tr th:only-of-type {\n",
              "        vertical-align: middle;\n",
              "    }\n",
              "\n",
              "    .dataframe tbody tr th {\n",
              "        vertical-align: top;\n",
              "    }\n",
              "\n",
              "    .dataframe thead th {\n",
              "        text-align: right;\n",
              "    }\n",
              "</style>\n",
              "<table border=\"1\" class=\"dataframe\">\n",
              "  <thead>\n",
              "    <tr style=\"text-align: right;\">\n",
              "      <th></th>\n",
              "      <th>df</th>\n",
              "      <th>sum_sq</th>\n",
              "      <th>mean_sq</th>\n",
              "      <th>F</th>\n",
              "      <th>PR(&gt;F)</th>\n",
              "    </tr>\n",
              "  </thead>\n",
              "  <tbody>\n",
              "    <tr>\n",
              "      <th>C(Position)</th>\n",
              "      <td>26.0</td>\n",
              "      <td>16496.092002</td>\n",
              "      <td>634.465077</td>\n",
              "      <td>20.791849</td>\n",
              "      <td>5.031960e-96</td>\n",
              "    </tr>\n",
              "    <tr>\n",
              "      <th>C(fifa[\"Preferred Foot\"])</th>\n",
              "      <td>1.0</td>\n",
              "      <td>234.162243</td>\n",
              "      <td>234.162243</td>\n",
              "      <td>7.673655</td>\n",
              "      <td>5.608990e-03</td>\n",
              "    </tr>\n",
              "    <tr>\n",
              "      <th>Residual</th>\n",
              "      <td>18119.0</td>\n",
              "      <td>552902.860021</td>\n",
              "      <td>30.515087</td>\n",
              "      <td>NaN</td>\n",
              "      <td>NaN</td>\n",
              "    </tr>\n",
              "  </tbody>\n",
              "</table>\n",
              "</div>"
            ],
            "text/plain": [
              "                                df         sum_sq  ...          F        PR(>F)\n",
              "C(Position)                   26.0   16496.092002  ...  20.791849  5.031960e-96\n",
              "C(fifa[\"Preferred Foot\"])      1.0     234.162243  ...   7.673655  5.608990e-03\n",
              "Residual                   18119.0  552902.860021  ...        NaN           NaN\n",
              "\n",
              "[3 rows x 5 columns]"
            ]
          },
          "metadata": {
            "tags": []
          },
          "execution_count": 8
        }
      ]
    },
    {
      "cell_type": "markdown",
      "metadata": {
        "id": "g1zWQiEAVBP0",
        "colab_type": "text"
      },
      "source": [
        "What is your conclusion from this ANOVA?"
      ]
    },
    {
      "cell_type": "code",
      "metadata": {
        "id": "MHF3DN3EVBP1",
        "colab_type": "code",
        "colab": {}
      },
      "source": [
        "##La posición y fenotipo combinados influyen en el valor de un jugador para niveles de significancia bajos\n"
      ],
      "execution_count": 9,
      "outputs": []
    },
    {
      "cell_type": "markdown",
      "metadata": {
        "id": "XqZZ0XFSVBP4",
        "colab_type": "text"
      },
      "source": [
        "After looking at a model of both preffered foot and position, we decide to create an ANOVA table for nationality. Create an ANOVA table for numeric value as a function of nationality."
      ]
    },
    {
      "cell_type": "code",
      "metadata": {
        "id": "cmeBD7lnVBP5",
        "colab_type": "code",
        "colab": {
          "base_uri": "https://localhost:8080/",
          "height": 111
        },
        "outputId": "0e05a91d-ddb7-41ae-e8a4-cdcbf9e3edeb"
      },
      "source": [
        "formula=\"ValueNumeric ~ C(Nationality)\"\n",
        "lm = smf.ols(formula, fifa).fit()\n",
        "sms.anova.anova_single(lm)"
      ],
      "execution_count": 10,
      "outputs": [
        {
          "output_type": "execute_result",
          "data": {
            "text/html": [
              "<div>\n",
              "<style scoped>\n",
              "    .dataframe tbody tr th:only-of-type {\n",
              "        vertical-align: middle;\n",
              "    }\n",
              "\n",
              "    .dataframe tbody tr th {\n",
              "        vertical-align: top;\n",
              "    }\n",
              "\n",
              "    .dataframe thead th {\n",
              "        text-align: right;\n",
              "    }\n",
              "</style>\n",
              "<table border=\"1\" class=\"dataframe\">\n",
              "  <thead>\n",
              "    <tr style=\"text-align: right;\">\n",
              "      <th></th>\n",
              "      <th>df</th>\n",
              "      <th>sum_sq</th>\n",
              "      <th>mean_sq</th>\n",
              "      <th>F</th>\n",
              "      <th>PR(&gt;F)</th>\n",
              "    </tr>\n",
              "  </thead>\n",
              "  <tbody>\n",
              "    <tr>\n",
              "      <th>C(Nationality)</th>\n",
              "      <td>163.0</td>\n",
              "      <td>32812.244217</td>\n",
              "      <td>201.302112</td>\n",
              "      <td>6.762478</td>\n",
              "      <td>4.840477e-134</td>\n",
              "    </tr>\n",
              "    <tr>\n",
              "      <th>Residual</th>\n",
              "      <td>18043.0</td>\n",
              "      <td>537095.118316</td>\n",
              "      <td>29.767506</td>\n",
              "      <td>NaN</td>\n",
              "      <td>NaN</td>\n",
              "    </tr>\n",
              "  </tbody>\n",
              "</table>\n",
              "</div>"
            ],
            "text/plain": [
              "                     df         sum_sq     mean_sq         F         PR(>F)\n",
              "C(Nationality)    163.0   32812.244217  201.302112  6.762478  4.840477e-134\n",
              "Residual        18043.0  537095.118316   29.767506       NaN            NaN"
            ]
          },
          "metadata": {
            "tags": []
          },
          "execution_count": 10
        }
      ]
    },
    {
      "cell_type": "markdown",
      "metadata": {
        "id": "QcsdjsYGVBP9",
        "colab_type": "text"
      },
      "source": [
        "What is your conclusion from this ANOVA?"
      ]
    },
    {
      "cell_type": "code",
      "metadata": {
        "id": "ny2njP6hzmzz",
        "colab_type": "code",
        "colab": {}
      },
      "source": [
        "##La nacionalidad también influye en el valor de un jugador"
      ],
      "execution_count": 11,
      "outputs": []
    },
    {
      "cell_type": "markdown",
      "metadata": {
        "id": "HNLzmHt0VBP-",
        "colab_type": "text"
      },
      "source": [
        "# Challenge 2 - Linear Regression\n",
        "\n",
        "Our goal with using linear regression is to create a mathematical model that will enable us to predict the outcome of one variable using one or more additional independent variables.\n",
        "\n",
        "We'll start by ensuring there are no missing values. Examine all variables for all missing values. If there are missing values in a row, remove the entire row."
      ]
    },
    {
      "cell_type": "code",
      "metadata": {
        "id": "7lziKo3-0wck",
        "colab_type": "code",
        "colab": {}
      },
      "source": [
        "fifa.dropna(inplace=True)"
      ],
      "execution_count": 12,
      "outputs": []
    },
    {
      "cell_type": "code",
      "metadata": {
        "id": "_OyiqFJcVBP_",
        "colab_type": "code",
        "colab": {
          "base_uri": "https://localhost:8080/",
          "height": 493
        },
        "outputId": "5423d7a5-4abe-45ae-ab50-01b65eb33ae4"
      },
      "source": [
        "fifa.info()"
      ],
      "execution_count": 13,
      "outputs": [
        {
          "output_type": "stream",
          "text": [
            "<class 'pandas.core.frame.DataFrame'>\n",
            "Int64Index: 17918 entries, 0 to 18206\n",
            "Data columns (total 21 columns):\n",
            " #   Column          Non-Null Count  Dtype  \n",
            "---  ------          --------------  -----  \n",
            " 0   Name            17918 non-null  object \n",
            " 1   Age             17918 non-null  int64  \n",
            " 2   Nationality     17918 non-null  object \n",
            " 3   Overall         17918 non-null  int64  \n",
            " 4   Potential       17918 non-null  int64  \n",
            " 5   Club            17918 non-null  object \n",
            " 6   Value           17918 non-null  object \n",
            " 7   Preferred Foot  17918 non-null  object \n",
            " 8   Position        17918 non-null  object \n",
            " 9   Weak Foot       17918 non-null  float64\n",
            " 10  Acceleration    17918 non-null  float64\n",
            " 11  SprintSpeed     17918 non-null  float64\n",
            " 12  Stamina         17918 non-null  float64\n",
            " 13  Strength        17918 non-null  float64\n",
            " 14  LongShots       17918 non-null  float64\n",
            " 15  Aggression      17918 non-null  float64\n",
            " 16  Interceptions   17918 non-null  float64\n",
            " 17  Positioning     17918 non-null  float64\n",
            " 18  Vision          17918 non-null  float64\n",
            " 19  Penalties       17918 non-null  float64\n",
            " 20  ValueNumeric    17918 non-null  float64\n",
            "dtypes: float64(12), int64(3), object(6)\n",
            "memory usage: 3.0+ MB\n"
          ],
          "name": "stdout"
        }
      ]
    },
    {
      "cell_type": "markdown",
      "metadata": {
        "id": "dPOw8ifCVBQM",
        "colab_type": "text"
      },
      "source": [
        "Using the FIFA dataset, in the cell below, create a linear model predicting value using stamina and sprint speed. create the model using `statsmodels`. Print the model summary.\n",
        "\n",
        "Hint: remember to add an intercept to the model using the `add_constant` function."
      ]
    },
    {
      "cell_type": "code",
      "metadata": {
        "id": "iaV-woY5VBQS",
        "colab_type": "code",
        "colab": {
          "base_uri": "https://localhost:8080/",
          "height": 459
        },
        "outputId": "5c2dcaad-7603-4609-d3fa-6785c20ce2f9"
      },
      "source": [
        "x=sm.add_constant(fifa[[\"Stamina\",\"SprintSpeed\"]])\n",
        "y=fifa.ValueNumeric\n",
        "print(sm.OLS(y,x).fit().summary())"
      ],
      "execution_count": 17,
      "outputs": [
        {
          "output_type": "stream",
          "text": [
            "                            OLS Regression Results                            \n",
            "==============================================================================\n",
            "Dep. Variable:           ValueNumeric   R-squared:                       0.048\n",
            "Model:                            OLS   Adj. R-squared:                  0.048\n",
            "Method:                 Least Squares   F-statistic:                     453.4\n",
            "Date:                Fri, 03 Jul 2020   Prob (F-statistic):          8.04e-193\n",
            "Time:                        18:29:11   Log-Likelihood:                -55952.\n",
            "No. Observations:               17918   AIC:                         1.119e+05\n",
            "Df Residuals:                   17915   BIC:                         1.119e+05\n",
            "Df Model:                           2                                         \n",
            "Covariance Type:            nonrobust                                         \n",
            "===============================================================================\n",
            "                  coef    std err          t      P>|t|      [0.025      0.975]\n",
            "-------------------------------------------------------------------------------\n",
            "const          -3.0700      0.197    -15.600      0.000      -3.456      -2.684\n",
            "Stamina         0.0604      0.003     18.349      0.000       0.054       0.067\n",
            "SprintSpeed     0.0263      0.004      7.380      0.000       0.019       0.033\n",
            "==============================================================================\n",
            "Omnibus:                    22840.822   Durbin-Watson:                   0.187\n",
            "Prob(Omnibus):                  0.000   Jarque-Bera (JB):          4648189.356\n",
            "Skew:                           7.042   Prob(JB):                         0.00\n",
            "Kurtosis:                      80.638   Cond. No.                         444.\n",
            "==============================================================================\n",
            "\n",
            "Warnings:\n",
            "[1] Standard Errors assume that the covariance matrix of the errors is correctly specified.\n"
          ],
          "name": "stdout"
        }
      ]
    },
    {
      "cell_type": "markdown",
      "metadata": {
        "id": "E6cvTupJVBQZ",
        "colab_type": "text"
      },
      "source": [
        "Report your findings from the model summary. In particular, report about the model as a whole using the F-test and how much variation is predicted by the model using the r squared."
      ]
    },
    {
      "cell_type": "code",
      "metadata": {
        "id": "rieQ8VoiVBQZ",
        "colab_type": "code",
        "colab": {}
      },
      "source": [
        "##De acuerdo con Ad. R-cuadrada, no hay un buen ajuste entre estas variables por lo cual se descarta.\n"
      ],
      "execution_count": 18,
      "outputs": []
    },
    {
      "cell_type": "markdown",
      "metadata": {
        "id": "2yNkX_qYVBQp",
        "colab_type": "text"
      },
      "source": [
        "Next, create a second regression model predicting value using potential. Create the model using `statsmodels` and print the model summary. Remember to add a constant term."
      ]
    },
    {
      "cell_type": "code",
      "metadata": {
        "id": "V0vD-jwQVBQq",
        "colab_type": "code",
        "colab": {
          "base_uri": "https://localhost:8080/",
          "height": 442
        },
        "outputId": "b565ecb8-9564-4084-ea84-5a662356312e"
      },
      "source": [
        "x=sm.add_constant(fifa.Potential)\n",
        "y=fifa.ValueNumeric\n",
        "print(sm.OLS(y,x).fit().summary())"
      ],
      "execution_count": 31,
      "outputs": [
        {
          "output_type": "stream",
          "text": [
            "                            OLS Regression Results                            \n",
            "==============================================================================\n",
            "Dep. Variable:           ValueNumeric   R-squared:                       0.336\n",
            "Model:                            OLS   Adj. R-squared:                  0.336\n",
            "Method:                 Least Squares   F-statistic:                     9058.\n",
            "Date:                Fri, 03 Jul 2020   Prob (F-statistic):               0.00\n",
            "Time:                        19:21:48   Log-Likelihood:                -52728.\n",
            "No. Observations:               17918   AIC:                         1.055e+05\n",
            "Df Residuals:                   17916   BIC:                         1.055e+05\n",
            "Df Model:                           1                                         \n",
            "Covariance Type:            nonrobust                                         \n",
            "==============================================================================\n",
            "                 coef    std err          t      P>|t|      [0.025      0.975]\n",
            "------------------------------------------------------------------------------\n",
            "const        -35.4390      0.400    -88.693      0.000     -36.222     -34.656\n",
            "Potential      0.5312      0.006     95.172      0.000       0.520       0.542\n",
            "==============================================================================\n",
            "Omnibus:                    23030.426   Durbin-Watson:                   0.550\n",
            "Prob(Omnibus):                  0.000   Jarque-Bera (JB):          6340772.995\n",
            "Skew:                           7.013   Prob(JB):                         0.00\n",
            "Kurtosis:                      94.084   Cond. No.                         834.\n",
            "==============================================================================\n",
            "\n",
            "Warnings:\n",
            "[1] Standard Errors assume that the covariance matrix of the errors is correctly specified.\n"
          ],
          "name": "stdout"
        }
      ]
    },
    {
      "cell_type": "markdown",
      "metadata": {
        "id": "dh2SnLtuVBQy",
        "colab_type": "text"
      },
      "source": [
        "Report your findings from the model summary. In particular, report about the model as a whole using the F-test and how much variation is predicted by the model using the r squared."
      ]
    },
    {
      "cell_type": "code",
      "metadata": {
        "id": "dIqlGBOiVBQ0",
        "colab_type": "code",
        "colab": {}
      },
      "source": [
        "#Adj. R-cuadrada nos muestra que existe una posible relación entre variables, aunque es menor a 0.5 por lo cual da una impresión de no ser una relación muy clara"
      ],
      "execution_count": 50,
      "outputs": []
    },
    {
      "cell_type": "markdown",
      "metadata": {
        "id": "e22_hO_9VBQ7",
        "colab_type": "text"
      },
      "source": [
        "Plot a scatter plot of value vs. potential. Do you see a linear relationship?"
      ]
    },
    {
      "cell_type": "code",
      "metadata": {
        "id": "5hlRcZ-sVBQ8",
        "colab_type": "code",
        "colab": {
          "base_uri": "https://localhost:8080/",
          "height": 517
        },
        "outputId": "a20460f1-39d6-4e77-fa3c-806d63ddb6b2"
      },
      "source": [
        "plt.style.use(\"ggplot\")\n",
        "plt.figure(figsize=(8*1.618,8))\n",
        "plt.scatter(y,fifa.Potential,alpha=0.3)\n",
        "plt.title(\"Value vs Potential\")\n",
        "plt.ylabel(\"Value\")\n",
        "plt.xlabel(\"Potential\");"
      ],
      "execution_count": 48,
      "outputs": [
        {
          "output_type": "display_data",
          "data": {
            "image/png": "[encoded data removed]",
            "text/plain": [
              "<Figure size 931.968x576 with 1 Axes>"
            ]
          },
          "metadata": {
            "tags": []
          }
        }
      ]
    },
    {
      "cell_type": "code",
      "metadata": {
        "id": "8hNzpRtLVBRD",
        "colab_type": "code",
        "colab": {}
      },
      "source": [
        "##De acuerdo a la gráfica, se observa que existe una relación entre Potencial y Valor, sin embargo, no parece que sea una relación del tipo lineal, en cuanto más aumenta el valor, más rápido aumental el potencial, "
      ],
      "execution_count": null,
      "outputs": []
    }
  ]
}